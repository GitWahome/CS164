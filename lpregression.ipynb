{
 "cells": [
  {
   "cell_type": "markdown",
   "metadata": {
    "collapsed": false
   },
   "source": [
    "## $l_1$ and $l_\\infty$ Regression\n",
    "\n",
    "Some code is given below to generate a synthetic dataset.  Using CVX, solve two linear programs for computing the regression line for $l_1$ and $l_\\infty$ regression.  Plot the lines over the data to evaluate the fit."
   ]
  },
  {
   "cell_type": "code",
   "execution_count": 16,
   "metadata": {
    "collapsed": false
   },
   "outputs": [
    {
     "data": {
      "text/plain": [
       "<matplotlib.collections.PathCollection at 0x7fbae9d05090>"
      ]
     },
     "execution_count": 16,
     "metadata": {
     },
     "output_type": "execute_result"
    },
    {
     "data": {
      "image/png": "[encoded data removed]"
     },
     "execution_count": 16,
     "metadata": {
     },
     "output_type": "execute_result"
    }
   ],
   "source": [
    "# l_1 and l_infinity regression using cvxpy\n",
    "import numpy as np\n",
    "import cvxpy as cvx\n",
    "import matplotlib as mp\n",
    "\n",
    "# generate a synthetic dataset\n",
    "\n",
    "# actual parameter values\n",
    "a_act = 2\n",
    "b_act = 5\n",
    "\n",
    "# Number of points in dataset\n",
    "N = 100\n",
    "\n",
    "# Noise magnitude\n",
    "mag = 30\n",
    "\n",
    "# datapoints\n",
    "x = np.arange(0,N)\n",
    "y = a_act * x + b_act + np.random.normal(0,mag,N)\n",
    "\n",
    "# Scatter plot of data\n",
    "mp.pyplot.scatter(x,y)\n"
   ]
  },
  {
   "cell_type": "code",
   "execution_count": 0,
   "metadata": {
    "collapsed": false
   },
   "outputs": [
   ],
   "source": [
    "# Add your code here!\n",
    "\n",
    "# HINT: you will first want to declare two variables.  If the line is ax+b, then you need one variable for the gradient and another for the intercept:\n",
    "\n",
    "a = cvx.Variable()\n",
    "b = cvx.Variable()\n",
    "\n",
    "# For the l_1 case, you will also need a vector of slack variables."
   ]
  }
 ],
 "metadata": {
  "kernelspec": {
   "display_name": "Python 2 (Ubuntu Linux)",
   "language": "python",
   "name": "python2-ubuntu"
  },
  "language_info": {
   "codemirror_mode": {
    "name": "ipython",
    "version": 2
   },
   "file_extension": ".py",
   "mimetype": "text/x-python",
   "name": "python",
   "nbconvert_exporter": "python",
   "pygments_lexer": "ipython2",
   "version": "2.7.12"
  }
 },
 "nbformat": 4,
 "nbformat_minor": 0
}