{
 "cells": [
  {
   "cell_type": "markdown",
   "metadata": {},
   "source": [
    "## $l_1$ and $l_\\infty$ Regression\n",
    "\n",
    "Some code is given below to generate a synthetic dataset.  Using CVX, solve two linear programs for computing the regression line for $l_1$ and $l_\\infty$ regression.  Plot the lines over the data to evaluate the fit."
   ]
  },
  {
   "cell_type": "code",
   "execution_count": 18,
   "metadata": {},
   "outputs": [
    {
     "data": {
      "image/png": "[encoded data removed]",
      "text/plain": [
       "<Figure size 432x288 with 1 Axes>"
      ]
     },
     "metadata": {},
     "output_type": "display_data"
    }
   ],
   "source": [
    "# l_1 and l_infinity regression using cvxpy\n",
    "import numpy as np\n",
    "import cvxpy as cvx\n",
    "import matplotlib.pyplot as plt\n",
    "\n",
    "# generate a synthetic dataset\n",
    "\n",
    "# actual parameter values\n",
    "theta1_act = 2\n",
    "theta2_act = 5\n",
    "\n",
    "# Number of points in dataset\n",
    "N = 200\n",
    "\n",
    "# Noise magnitude\n",
    "mag = 30\n",
    "\n",
    "# datapoints\n",
    "x = np.arange(0,N)\n",
    "y = theta1_act * x + theta2_act *np.ones([1,N]) + np.random.normal(0,mag,N)\n",
    "\n",
    "plt.figure()\n",
    "# Scatter plot of data\n",
    "plt.scatter(x,y)\n",
    "plt.show()\n"
   ]
  },
  {
   "cell_type": "code",
   "execution_count": null,
   "metadata": {
    "collapsed": true
   },
   "outputs": [],
   "source": [
    "# Add your code here!\n",
    "\n",
    "# HINT: you will first want to declare a variable for the parameters of the line\n",
    "\n",
    "theta = cvx.Variable(2)\n",
    "\n",
    "# For the l_1 case, you will also need a vector of slack variables."
   ]
  }
 ],
 "metadata": {
  "kernelspec": {
   "display_name": "Python 2",
   "language": "python",
   "name": "python2"
  },
  "language_info": {
   "codemirror_mode": {
    "name": "ipython",
    "version": 2
   },
   "file_extension": ".py",
   "mimetype": "text/x-python",
   "name": "python",
   "nbconvert_exporter": "python",
   "pygments_lexer": "ipython2",
   "version": "2.7.14"
  }
 },
 "nbformat": 4,
 "nbformat_minor": 1
}
